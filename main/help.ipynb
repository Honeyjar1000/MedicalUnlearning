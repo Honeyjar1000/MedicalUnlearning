{
 "cells": [
  {
   "cell_type": "markdown",
   "metadata": {},
   "source": [
    "# __Medical Unlearning__"
   ]
  },
  {
   "cell_type": "markdown",
   "metadata": {},
   "source": [
    "### __Examine Data__"
   ]
  },
  {
   "cell_type": "markdown",
   "metadata": {},
   "source": [
    "We consider several medical datasets from MedMNIST (https://medmnist.com/) shown in the table bellow:"
   ]
  },
  {
   "cell_type": "markdown",
   "metadata": {},
   "source": [
    "<center><img src=\"pics/data_table.png\"/></center>"
   ]
  },
  {
   "cell_type": "markdown",
   "metadata": {},
   "source": [
    "Lets have a look at the BloodMNIST dataset. To examine a dataset use the following command line:\n",
    "\n",
    "*__python examine_dataset.py --dataset {dataset_name}__*\n",
    "\n",
    "Here is the command for BloodMNIST:\n",
    "\n",
    "*__python examine_dataset.py --dataset BloodMNIST__*\n",
    "\n",
    "This script will tell you how much of each class exists in the dataset, as well as the dataset split, and a grid of the data samples (with the associated class):"
   ]
  },
  {
   "cell_type": "markdown",
   "metadata": {},
   "source": [
    "<center><img src=\"pics/blood_data.png\" width=\"500\" /></center>"
   ]
  },
  {
   "cell_type": "markdown",
   "metadata": {},
   "source": [
    "### __Train Model__"
   ]
  },
  {
   "cell_type": "markdown",
   "metadata": {},
   "source": [
    "To train a model on one of these datasets we use the following command line:\n",
    "\n",
    "*__python main_train.py  --save_model_id {name}  --dataset {dataset_name}__*\n",
    "\n",
    "The save_model_id is a unique identifier for the trained model and can be any string. More arguments can be specified here, such as epochs, learning rate, and random seed, all available arguments can be seen in the arg_parser.py script. Bellow is an example:\n",
    "\n",
    "*__python main_train.py  --save_model_id {name}  --dataset {dataset_name}  --seed {seed_number} --epochs {epochs} --lr {learning_rate} --batch_size {batch_size}__*\n",
    "\n",
    "For example, we will run the following command:\n",
    "\n",
    "*__python main_train.py  --save_model_id example_blood_model  --dataset BloodMNIST  --seed 1 --epochs 50 --lr 0.01 --batch_size 50__*\n",
    "\n",
    "The script will save both the last and best checkpoints to the directory:\n",
    "**model_weights/{name}_best.pt** or **model_weights/{name}_last.pt**\n",
    "\n",
    "\n"
   ]
  },
  {
   "cell_type": "markdown",
   "metadata": {},
   "source": [
    "### __Test Model__"
   ]
  },
  {
   "cell_type": "markdown",
   "metadata": {},
   "source": [
    "Lets quickly test the performance of this model using the following command line:\n",
    "\n",
    "*__python main_test.py --model_id {name} --dataset {dataset_name}__*\n",
    "\n",
    "Here is the full command line we will use (remember the _best or _last for model_id), also be mindful that batch_size and num_workers are optimal for your computer:\n",
    "\n",
    "*__python main_test.py --model_id example_blood_model_best  --dataset BloodMNIST  --batch_size 50  --num_workers 0__*\n",
    "\n",
    "Bellow is the output:"
   ]
  },
  {
   "cell_type": "markdown",
   "metadata": {},
   "source": [
    "<center><img src=\"pics/blood_base_model_test.png\" width=\"500\" /></center>"
   ]
  },
  {
   "cell_type": "markdown",
   "metadata": {},
   "source": [
    "Using the number keys, you can sample data from specific classes, the script will also output the class wise performance of the model to the terminal:"
   ]
  },
  {
   "cell_type": "markdown",
   "metadata": {},
   "source": [
    "<center><img src=\"pics/blood_test_class.png\" width=\"500\" /></center>"
   ]
  },
  {
   "cell_type": "markdown",
   "metadata": {},
   "source": [
    "### __Create Unlearned Model__"
   ]
  },
  {
   "cell_type": "markdown",
   "metadata": {},
   "source": [
    "#### __Generate Masks__"
   ]
  },
  {
   "cell_type": "markdown",
   "metadata": {},
   "source": [
    "First we must create the saliency map for the base model, in our case, the base model we will use is __example_blood_model_best__\n",
    "\n",
    "To create the saliency map, simply run this command:\n",
    "\n",
    "*__python generate_mask.py --model_id {model_name} --dataset {dataset_name}__*\n",
    "\n",
    "So our command will be:\n",
    "\n",
    "*__python generate_mask.py --model_id example_blood_model_best --dataset BloodMNIST__*\n",
    "\n",
    "This will create a directory in SaliencyMaps/{model_name}/ which will contain all the masks, different threshholds will result in different performance, so some work should be done to decide which mask is the most effective. For the purpose of this notebook, lets just use threshhold 0.5"
   ]
  },
  {
   "cell_type": "markdown",
   "metadata": {},
   "source": [
    "#### __Forget Class__"
   ]
  },
  {
   "cell_type": "markdown",
   "metadata": {},
   "source": [
    "Lets attempt to forget class 3. To do this, simply use the following command line:\n",
    "\n",
    "*__python main_unlearn.py --model_id {model_name} --dataset {dataset_name}   --unlearn {unlearn_method_id}  --class_to_forget {class_number}  --mask_thresh {threshhold}__*\n",
    "\n",
    "You can specify more paramentres:\n",
    "\n",
    "*__python main_unlearn.py --model_id {model_name} --dataset {dataset_name}   --unlearn {unlearn_method_id}  --class_to_forget {class_number}  --mask_thresh {threshhold} --unlearn_epochs {epochs}    --unlearn_lr {learning_rate}  --unlearn_batch_size {batch_size}__*\n",
    "\n",
    "Bellow is a table of unlearning techniques and the associated unlearn_method_id:"
   ]
  },
  {
   "cell_type": "markdown",
   "metadata": {},
   "source": [
    "<center><img src=\"pics/unlearning_methods.png\" width=\"500\" /></center>"
   ]
  },
  {
   "cell_type": "markdown",
   "metadata": {},
   "source": [
    "Note that different techniques will require different ideal values for learing rate and epochs etc, therefore some testing is required to find the ideal parametres."
   ]
  },
  {
   "cell_type": "markdown",
   "metadata": {},
   "source": [
    "Bellow is the full command line we will use to create an unlearned model from our base model __example_blood_model_best__ that has forgotten class 3, lets use *Random Labelling with SalUn*:\n",
    "\n",
    "*__python main_unlearn.py --model_id example_blood_model_best --dataset BloodMNIST   --unlearn RL_with_SalUn     --class_to_forget 3 --mask_thresh 0.5 --unlearn_epochs 5    --unlearn_lr 0.001  --unlearn_batch_size 100__*\n",
    "\n",
    "Note some unlearning methods don't need a mask threshhold, so it will ignore the --mask_thresh argument.\n",
    "This will create a model that will have the unique ID:\n",
    "\n",
    "__example_blood_model_best_FORGOTTEN_3_RL_WITH_SALUN_mask5_unlearnEpochs5_unlearnlr001__"
   ]
  },
  {
   "cell_type": "markdown",
   "metadata": {},
   "source": [
    "### __Test and Compare Unlearned Model__"
   ]
  },
  {
   "cell_type": "markdown",
   "metadata": {},
   "source": [
    "To check how well our unlearned model has done, we can run the following command line:\n",
    "\n",
    "*__python main_test_unlearn.py  --model_id {model_name}  --dataset {dataset_name}  --class_to_forget {class_number}  --batch_size {batch_size}__*\n",
    "\n",
    "In our case, we will run the following command:\n",
    "\n",
    "*__python main_test_unlearn.py  --model_id example_blood_model_best_FORGOTTEN_3_RL_WITH_SALUN_mask5_unlearnEpochs5_unlearnlr001  --dataset BloodMNIST  --class_to_forget 3  --batch_size 100__*\n",
    "\n",
    "This will create a dataset without the class 3, and test how well the model does on it. The script also creates a dataset only containing class 3 to check how well we have forgotten. The three criterea we are concerned about are:\n",
    "\n",
    "- __Unlearn Accuracy__ (How well we have forgotten)\n",
    "- __Remaining Accuracy__ (How well the model performs on data it has seen before) \n",
    "- __Test Accuracy__ (How well the model performs on data it hasn't seen before)\n"
   ]
  },
  {
   "cell_type": "markdown",
   "metadata": {},
   "source": [
    "<center><img src=\"pics/unlearn_test_output.png\" width=\"500\" /></center>"
   ]
  },
  {
   "cell_type": "markdown",
   "metadata": {},
   "source": [
    "Unlearn accuracy is not amazing, but this is without parametre optimisation, so lets continue. We can also run this script on the base model, to get an idea of how the original model performs on the forgotten dataset:\n",
    "\n",
    "*__python main_test_unlearn.py     --model_id example_blood_model_best  --dataset BloodMNIST  --class_to_forget 3 --batch_size 100__*"
   ]
  },
  {
   "cell_type": "markdown",
   "metadata": {},
   "source": [
    "<center><img src=\"pics/base_model_test.png\" width=\"500\" /></center>"
   ]
  },
  {
   "cell_type": "markdown",
   "metadata": {},
   "source": [
    "Great, so we have partially forgotten class 3, and our model accuracy has not degraded. To examine the model's performance, we can run the main_test.py script again for our unlearned model:\n",
    "\n",
    "*__python main_test.py --model_id example_blood_model_best_FORGOTTEN_3_RL_WITH_SALUN_mask5_unlearnEpochs5_unlearnlr001    --dataset BloodMNIST    --batch_size 50 --num_workers 0__*\n",
    "\n"
   ]
  },
  {
   "cell_type": "markdown",
   "metadata": {},
   "source": [
    "<center><img src=\"pics/test_unlearn_main.png\" width=\"700\" /></center>"
   ]
  },
  {
   "cell_type": "markdown",
   "metadata": {},
   "source": [
    "Lets have a look at class 3:"
   ]
  },
  {
   "cell_type": "markdown",
   "metadata": {},
   "source": [
    "<center><img src=\"pics/test_unlearn_main3.png\" width=\"700\" /></center>"
   ]
  },
  {
   "cell_type": "markdown",
   "metadata": {},
   "source": [
    "<center><img src=\"pics/test_unlearn_main_classwise.png\" width=\"700\" /></center>"
   ]
  }
 ],
 "metadata": {
  "language_info": {
   "name": "python"
  }
 },
 "nbformat": 4,
 "nbformat_minor": 2
}
